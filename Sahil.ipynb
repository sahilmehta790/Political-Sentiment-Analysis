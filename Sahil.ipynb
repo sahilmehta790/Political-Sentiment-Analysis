{
 "cells": [
  {
   "cell_type": "code",
   "execution_count": 1,
   "id": "241c6a2e",
   "metadata": {},
   "outputs": [],
   "source": [
    "import numpy as np\n",
    "import pandas as pd\n",
    "\n",
    "import json\n",
    "\n",
    "import warnings\n",
    "warnings.filterwarnings('ignore')"
   ]
  },
  {
   "cell_type": "code",
   "execution_count": 2,
   "id": "3619c2ad",
   "metadata": {},
   "outputs": [
    {
     "data": {
      "text/html": [
       "<div>\n",
       "<style scoped>\n",
       "    .dataframe tbody tr th:only-of-type {\n",
       "        vertical-align: middle;\n",
       "    }\n",
       "\n",
       "    .dataframe tbody tr th {\n",
       "        vertical-align: top;\n",
       "    }\n",
       "\n",
       "    .dataframe thead th {\n",
       "        text-align: right;\n",
       "    }\n",
       "</style>\n",
       "<table border=\"1\" class=\"dataframe\">\n",
       "  <thead>\n",
       "    <tr style=\"text-align: right;\">\n",
       "      <th></th>\n",
       "      <th>text</th>\n",
       "      <th>label</th>\n",
       "    </tr>\n",
       "  </thead>\n",
       "  <tbody>\n",
       "    <tr>\n",
       "      <th>0</th>\n",
       "      <td>50 Years On, The Feminist Press Is Radical and...</td>\n",
       "      <td>Liberal</td>\n",
       "    </tr>\n",
       "    <tr>\n",
       "      <th>1</th>\n",
       "      <td>Anti-worker bills are working their way throug...</td>\n",
       "      <td>Liberal</td>\n",
       "    </tr>\n",
       "    <tr>\n",
       "      <th>2</th>\n",
       "      <td>The FBI Seized Almost $1 Million From This Fam...</td>\n",
       "      <td>Conservative</td>\n",
       "    </tr>\n",
       "    <tr>\n",
       "      <th>3</th>\n",
       "      <td>Stephanie Grisham’s Book Details Trump’s ‘Terr...</td>\n",
       "      <td>Liberal</td>\n",
       "    </tr>\n",
       "    <tr>\n",
       "      <th>4</th>\n",
       "      <td>How Trump kept peace</td>\n",
       "      <td>Conservative</td>\n",
       "    </tr>\n",
       "  </tbody>\n",
       "</table>\n",
       "</div>"
      ],
      "text/plain": [
       "                                                text         label\n",
       "0  50 Years On, The Feminist Press Is Radical and...       Liberal\n",
       "1  Anti-worker bills are working their way throug...       Liberal\n",
       "2  The FBI Seized Almost $1 Million From This Fam...  Conservative\n",
       "3  Stephanie Grisham’s Book Details Trump’s ‘Terr...       Liberal\n",
       "4                               How Trump kept peace  Conservative"
      ]
     },
     "execution_count": 2,
     "metadata": {},
     "output_type": "execute_result"
    }
   ],
   "source": [
    "df = pd.read_json('political_orientation_data.json', lines=True)\n",
    "df.head()"
   ]
  },
  {
   "cell_type": "code",
   "execution_count": 3,
   "id": "20d8c9e2",
   "metadata": {},
   "outputs": [
    {
     "data": {
      "text/plain": [
       "5000"
      ]
     },
     "execution_count": 3,
     "metadata": {},
     "output_type": "execute_result"
    }
   ],
   "source": [
    "len(df)"
   ]
  },
  {
   "cell_type": "code",
   "execution_count": 4,
   "id": "af984d4d",
   "metadata": {},
   "outputs": [
    {
     "data": {
      "text/plain": [
       "array(['Liberal', 'Conservative'], dtype=object)"
      ]
     },
     "execution_count": 4,
     "metadata": {},
     "output_type": "execute_result"
    }
   ],
   "source": [
    "df['label'].unique()"
   ]
  },
  {
   "cell_type": "code",
   "execution_count": 5,
   "id": "cd044f6d",
   "metadata": {},
   "outputs": [],
   "source": [
    "from sklearn.feature_extraction.text import TfidfVectorizer \n",
    "review_corpus = [] \n",
    "y = []\n",
    "count = 0\n",
    "for index, row in df.iterrows():\n",
    "    review_text = row['text'] \n",
    "    if row['label'] == \"Liberal\":\n",
    "        label = 1 # Liberal\n",
    "    else:\n",
    "        label = 0 # Conservative\n",
    "    review_corpus.append(review_text)\n",
    "    y.append(label)\n",
    "    count += 1\n",
    "vectorizer = TfidfVectorizer(max_features=10000) \n",
    "vectorizer.fit(review_corpus) \n",
    "vectorized_review = vectorizer.transform(review_corpus)"
   ]
  },
  {
   "cell_type": "code",
   "execution_count": 6,
   "id": "f332087b",
   "metadata": {},
   "outputs": [
    {
     "data": {
      "text/plain": [
       "(5000, 10000)"
      ]
     },
     "execution_count": 6,
     "metadata": {},
     "output_type": "execute_result"
    }
   ],
   "source": [
    "vectorized_review.shape"
   ]
  },
  {
   "cell_type": "code",
   "execution_count": 7,
   "id": "e4980cf3",
   "metadata": {},
   "outputs": [],
   "source": [
    "import numpy as np\n",
    "X, Y = vectorized_review.toarray(), np.asarray(y)"
   ]
  },
  {
   "cell_type": "code",
   "execution_count": 8,
   "id": "2c1f4b2e",
   "metadata": {},
   "outputs": [
    {
     "data": {
      "text/plain": [
       "((5000, 10000), (5000,))"
      ]
     },
     "execution_count": 8,
     "metadata": {},
     "output_type": "execute_result"
    }
   ],
   "source": [
    "X.shape, Y.shape"
   ]
  },
  {
   "cell_type": "code",
   "execution_count": 9,
   "id": "d22b955c",
   "metadata": {
    "id": "yCJSxKpnkvv8"
   },
   "outputs": [],
   "source": [
    "import tensorflow as tf\n",
    "input_layer = tf.keras.Input(shape=10000, name=\"input_layer\") \n",
    "hidden_layer_1 = tf.keras.layers.Dense(units=5000, activation=\"ReLU\", name=\"hidden_layer_1\")(input_layer)\n",
    "hiddn_layer_2 = tf.keras.layers.Dense(units=2500, activation=\"ReLU\", name=\"hidden_layer_2\")(hidden_layer_1)\n",
    "output_layer = tf.keras.layers.Dense(units=1, activation=\"sigmoid\", name=\"output_layer\")(hiddn_layer_2) \n",
    "model = tf.keras.Model(inputs=input_layer, outputs=output_layer, name=\"logistic_regression_example\")\n",
    "model.compile(loss=\"binary_crossentropy\", optimizer=\"SGD\", \n",
    "              metrics=[tf.keras.metrics.BinaryAccuracy(name=\"accuracy\")])"
   ]
  },
  {
   "cell_type": "code",
   "execution_count": 10,
   "id": "1c58d475",
   "metadata": {
    "colab": {
     "base_uri": "https://localhost:8080/",
     "height": 174
    },
    "id": "T2cWZk79LcUw",
    "outputId": "b184a927-6456-4ea4-fb55-c17c3638ed2b",
    "scrolled": true
   },
   "outputs": [
    {
     "name": "stdout",
     "output_type": "stream",
     "text": [
      "You must install pydot (`pip install pydot`) and install graphviz (see instructions at https://graphviz.gitlab.io/download/) for plot_model to work.\n"
     ]
    }
   ],
   "source": [
    "#model.summary() \n",
    "tf.keras.utils.plot_model(model, show_shapes= True)"
   ]
  },
  {
   "cell_type": "code",
   "execution_count": 11,
   "id": "62d16c60",
   "metadata": {
    "id": "zoxwqG4iJPet",
    "scrolled": false
   },
   "outputs": [
    {
     "name": "stdout",
     "output_type": "stream",
     "text": [
      "Epoch 1/30\n",
      "469/469 [==============================] - ETA: 0s - loss: 0.6578 - accuracy: 0.6475\n",
      "Epoch 1: val_accuracy improved from -inf to 0.64320, saving model to saved_model\\\n"
     ]
    },
    {
     "name": "stderr",
     "output_type": "stream",
     "text": [
      "WARNING:absl:Found untraced functions such as _update_step_xla, re_lu_layer_call_fn, re_lu_layer_call_and_return_conditional_losses, re_lu_1_layer_call_fn, re_lu_1_layer_call_and_return_conditional_losses while saving (showing 5 of 5). These functions will not be directly callable after loading.\n"
     ]
    },
    {
     "name": "stdout",
     "output_type": "stream",
     "text": [
      "INFO:tensorflow:Assets written to: saved_model\\assets\n"
     ]
    },
    {
     "name": "stderr",
     "output_type": "stream",
     "text": [
      "INFO:tensorflow:Assets written to: saved_model\\assets\n"
     ]
    },
    {
     "name": "stdout",
     "output_type": "stream",
     "text": [
      "469/469 [==============================] - 101s 214ms/step - loss: 0.6578 - accuracy: 0.6475 - val_loss: 0.6514 - val_accuracy: 0.6432\n",
      "Epoch 2/30\n",
      "469/469 [==============================] - ETA: 0s - loss: 0.6473 - accuracy: 0.6491\n",
      "Epoch 2: val_accuracy did not improve from 0.64320\n",
      "469/469 [==============================] - 97s 206ms/step - loss: 0.6473 - accuracy: 0.6491 - val_loss: 0.6509 - val_accuracy: 0.6432\n",
      "Epoch 3/30\n",
      "469/469 [==============================] - ETA: 0s - loss: 0.6465 - accuracy: 0.6491\n",
      "Epoch 3: val_accuracy did not improve from 0.64320\n",
      "469/469 [==============================] - 550s 1s/step - loss: 0.6465 - accuracy: 0.6491 - val_loss: 0.6504 - val_accuracy: 0.6432\n",
      "Epoch 4/30\n",
      "469/469 [==============================] - ETA: 0s - loss: 0.6455 - accuracy: 0.6491\n",
      "Epoch 4: val_accuracy did not improve from 0.64320\n",
      "469/469 [==============================] - 96s 205ms/step - loss: 0.6455 - accuracy: 0.6491 - val_loss: 0.6500 - val_accuracy: 0.6432\n",
      "Epoch 5/30\n",
      "469/469 [==============================] - ETA: 0s - loss: 0.6445 - accuracy: 0.6491\n",
      "Epoch 5: val_accuracy did not improve from 0.64320\n",
      "469/469 [==============================] - 98s 208ms/step - loss: 0.6445 - accuracy: 0.6491 - val_loss: 0.6494 - val_accuracy: 0.6432\n",
      "Epoch 6/30\n",
      "469/469 [==============================] - ETA: 0s - loss: 0.6433 - accuracy: 0.6491\n",
      "Epoch 6: val_accuracy did not improve from 0.64320\n",
      "469/469 [==============================] - 98s 210ms/step - loss: 0.6433 - accuracy: 0.6491 - val_loss: 0.6489 - val_accuracy: 0.6432\n",
      "Epoch 7/30\n",
      "469/469 [==============================] - ETA: 0s - loss: 0.6420 - accuracy: 0.6491\n",
      "Epoch 7: val_accuracy did not improve from 0.64320\n",
      "469/469 [==============================] - 103s 220ms/step - loss: 0.6420 - accuracy: 0.6491 - val_loss: 0.6480 - val_accuracy: 0.6432\n",
      "Epoch 8/30\n",
      "469/469 [==============================] - ETA: 0s - loss: 0.6403 - accuracy: 0.6491\n",
      "Epoch 8: val_accuracy did not improve from 0.64320\n",
      "469/469 [==============================] - 111s 237ms/step - loss: 0.6403 - accuracy: 0.6491 - val_loss: 0.6474 - val_accuracy: 0.6432\n",
      "Epoch 9/30\n",
      "469/469 [==============================] - ETA: 0s - loss: 0.6392 - accuracy: 0.6491\n",
      "Epoch 9: val_accuracy did not improve from 0.64320\n",
      "469/469 [==============================] - 110s 235ms/step - loss: 0.6392 - accuracy: 0.6491 - val_loss: 0.6461 - val_accuracy: 0.6432\n",
      "Epoch 10/30\n",
      "469/469 [==============================] - ETA: 0s - loss: 0.6369 - accuracy: 0.6491\n",
      "Epoch 10: val_accuracy did not improve from 0.64320\n",
      "469/469 [==============================] - 106s 225ms/step - loss: 0.6369 - accuracy: 0.6491 - val_loss: 0.6454 - val_accuracy: 0.6432\n",
      "Epoch 11/30\n",
      "469/469 [==============================] - ETA: 0s - loss: 0.6344 - accuracy: 0.6491\n",
      "Epoch 11: val_accuracy did not improve from 0.64320\n",
      "469/469 [==============================] - 106s 227ms/step - loss: 0.6344 - accuracy: 0.6491 - val_loss: 0.6441 - val_accuracy: 0.6432\n",
      "Epoch 12/30\n",
      "469/469 [==============================] - ETA: 0s - loss: 0.6314 - accuracy: 0.6491\n",
      "Epoch 12: val_accuracy did not improve from 0.64320\n",
      "469/469 [==============================] - 105s 224ms/step - loss: 0.6314 - accuracy: 0.6491 - val_loss: 0.6416 - val_accuracy: 0.6432\n",
      "Epoch 13/30\n",
      "469/469 [==============================] - ETA: 0s - loss: 0.6279 - accuracy: 0.6491\n",
      "Epoch 13: val_accuracy did not improve from 0.64320\n",
      "469/469 [==============================] - 99s 211ms/step - loss: 0.6279 - accuracy: 0.6491 - val_loss: 0.6390 - val_accuracy: 0.6432\n",
      "Epoch 14/30\n",
      "469/469 [==============================] - ETA: 0s - loss: 0.6233 - accuracy: 0.6491\n",
      "Epoch 14: val_accuracy did not improve from 0.64320\n",
      "469/469 [==============================] - 99s 210ms/step - loss: 0.6233 - accuracy: 0.6491 - val_loss: 0.6360 - val_accuracy: 0.6432\n",
      "Epoch 15/30\n",
      "469/469 [==============================] - ETA: 0s - loss: 0.6167 - accuracy: 0.6491\n",
      "Epoch 15: val_accuracy did not improve from 0.64320\n",
      "469/469 [==============================] - 99s 211ms/step - loss: 0.6167 - accuracy: 0.6491 - val_loss: 0.6342 - val_accuracy: 0.6432\n",
      "Epoch 16/30\n",
      "469/469 [==============================] - ETA: 0s - loss: 0.6100 - accuracy: 0.6493\n",
      "Epoch 16: val_accuracy improved from 0.64320 to 0.64400, saving model to saved_model\\\n"
     ]
    },
    {
     "name": "stderr",
     "output_type": "stream",
     "text": [
      "WARNING:absl:Found untraced functions such as _update_step_xla, re_lu_layer_call_fn, re_lu_layer_call_and_return_conditional_losses, re_lu_1_layer_call_fn, re_lu_1_layer_call_and_return_conditional_losses while saving (showing 5 of 5). These functions will not be directly callable after loading.\n"
     ]
    },
    {
     "name": "stdout",
     "output_type": "stream",
     "text": [
      "INFO:tensorflow:Assets written to: saved_model\\assets\n"
     ]
    },
    {
     "name": "stderr",
     "output_type": "stream",
     "text": [
      "INFO:tensorflow:Assets written to: saved_model\\assets\n"
     ]
    },
    {
     "name": "stdout",
     "output_type": "stream",
     "text": [
      "469/469 [==============================] - 98s 210ms/step - loss: 0.6100 - accuracy: 0.6493 - val_loss: 0.6273 - val_accuracy: 0.6440\n",
      "Epoch 17/30\n",
      "469/469 [==============================] - ETA: 0s - loss: 0.6005 - accuracy: 0.6512\n",
      "Epoch 17: val_accuracy improved from 0.64400 to 0.64560, saving model to saved_model\\\n"
     ]
    },
    {
     "name": "stderr",
     "output_type": "stream",
     "text": [
      "WARNING:absl:Found untraced functions such as _update_step_xla, re_lu_layer_call_fn, re_lu_layer_call_and_return_conditional_losses, re_lu_1_layer_call_fn, re_lu_1_layer_call_and_return_conditional_losses while saving (showing 5 of 5). These functions will not be directly callable after loading.\n"
     ]
    },
    {
     "name": "stdout",
     "output_type": "stream",
     "text": [
      "INFO:tensorflow:Assets written to: saved_model\\assets\n"
     ]
    },
    {
     "name": "stderr",
     "output_type": "stream",
     "text": [
      "INFO:tensorflow:Assets written to: saved_model\\assets\n"
     ]
    },
    {
     "name": "stdout",
     "output_type": "stream",
     "text": [
      "469/469 [==============================] - 101s 216ms/step - loss: 0.6005 - accuracy: 0.6512 - val_loss: 0.6215 - val_accuracy: 0.6456\n",
      "Epoch 18/30\n",
      "469/469 [==============================] - ETA: 0s - loss: 0.5892 - accuracy: 0.6603\n",
      "Epoch 18: val_accuracy improved from 0.64560 to 0.65120, saving model to saved_model\\\n"
     ]
    },
    {
     "name": "stderr",
     "output_type": "stream",
     "text": [
      "WARNING:absl:Found untraced functions such as _update_step_xla, re_lu_layer_call_fn, re_lu_layer_call_and_return_conditional_losses, re_lu_1_layer_call_fn, re_lu_1_layer_call_and_return_conditional_losses while saving (showing 5 of 5). These functions will not be directly callable after loading.\n"
     ]
    },
    {
     "name": "stdout",
     "output_type": "stream",
     "text": [
      "INFO:tensorflow:Assets written to: saved_model\\assets\n"
     ]
    },
    {
     "name": "stderr",
     "output_type": "stream",
     "text": [
      "INFO:tensorflow:Assets written to: saved_model\\assets\n"
     ]
    },
    {
     "name": "stdout",
     "output_type": "stream",
     "text": [
      "469/469 [==============================] - 98s 210ms/step - loss: 0.5892 - accuracy: 0.6603 - val_loss: 0.6148 - val_accuracy: 0.6512\n",
      "Epoch 19/30\n",
      "469/469 [==============================] - ETA: 0s - loss: 0.5746 - accuracy: 0.6757\n",
      "Epoch 19: val_accuracy improved from 0.65120 to 0.67920, saving model to saved_model\\\n"
     ]
    },
    {
     "name": "stderr",
     "output_type": "stream",
     "text": [
      "WARNING:absl:Found untraced functions such as _update_step_xla, re_lu_layer_call_fn, re_lu_layer_call_and_return_conditional_losses, re_lu_1_layer_call_fn, re_lu_1_layer_call_and_return_conditional_losses while saving (showing 5 of 5). These functions will not be directly callable after loading.\n"
     ]
    },
    {
     "name": "stdout",
     "output_type": "stream",
     "text": [
      "INFO:tensorflow:Assets written to: saved_model\\assets\n"
     ]
    },
    {
     "name": "stderr",
     "output_type": "stream",
     "text": [
      "INFO:tensorflow:Assets written to: saved_model\\assets\n"
     ]
    },
    {
     "name": "stdout",
     "output_type": "stream",
     "text": [
      "469/469 [==============================] - 98s 209ms/step - loss: 0.5746 - accuracy: 0.6757 - val_loss: 0.6076 - val_accuracy: 0.6792\n",
      "Epoch 20/30\n",
      "469/469 [==============================] - ETA: 0s - loss: 0.5568 - accuracy: 0.7035\n",
      "Epoch 20: val_accuracy improved from 0.67920 to 0.69040, saving model to saved_model\\\n"
     ]
    },
    {
     "name": "stderr",
     "output_type": "stream",
     "text": [
      "WARNING:absl:Found untraced functions such as _update_step_xla, re_lu_layer_call_fn, re_lu_layer_call_and_return_conditional_losses, re_lu_1_layer_call_fn, re_lu_1_layer_call_and_return_conditional_losses while saving (showing 5 of 5). These functions will not be directly callable after loading.\n"
     ]
    },
    {
     "name": "stdout",
     "output_type": "stream",
     "text": [
      "INFO:tensorflow:Assets written to: saved_model\\assets\n"
     ]
    },
    {
     "name": "stderr",
     "output_type": "stream",
     "text": [
      "INFO:tensorflow:Assets written to: saved_model\\assets\n"
     ]
    },
    {
     "name": "stdout",
     "output_type": "stream",
     "text": [
      "469/469 [==============================] - 98s 209ms/step - loss: 0.5568 - accuracy: 0.7035 - val_loss: 0.5978 - val_accuracy: 0.6904\n",
      "Epoch 21/30\n",
      "469/469 [==============================] - ETA: 0s - loss: 0.5350 - accuracy: 0.7267\n",
      "Epoch 21: val_accuracy improved from 0.69040 to 0.72400, saving model to saved_model\\\n"
     ]
    },
    {
     "name": "stderr",
     "output_type": "stream",
     "text": [
      "WARNING:absl:Found untraced functions such as _update_step_xla, re_lu_layer_call_fn, re_lu_layer_call_and_return_conditional_losses, re_lu_1_layer_call_fn, re_lu_1_layer_call_and_return_conditional_losses while saving (showing 5 of 5). These functions will not be directly callable after loading.\n"
     ]
    },
    {
     "name": "stdout",
     "output_type": "stream",
     "text": [
      "INFO:tensorflow:Assets written to: saved_model\\assets\n"
     ]
    },
    {
     "name": "stderr",
     "output_type": "stream",
     "text": [
      "INFO:tensorflow:Assets written to: saved_model\\assets\n"
     ]
    },
    {
     "name": "stdout",
     "output_type": "stream",
     "text": [
      "469/469 [==============================] - 98s 209ms/step - loss: 0.5350 - accuracy: 0.7267 - val_loss: 0.5986 - val_accuracy: 0.7240\n",
      "Epoch 22/30\n",
      "469/469 [==============================] - ETA: 0s - loss: 0.5128 - accuracy: 0.7509\n",
      "Epoch 22: val_accuracy did not improve from 0.72400\n",
      "469/469 [==============================] - 97s 207ms/step - loss: 0.5128 - accuracy: 0.7509 - val_loss: 0.5773 - val_accuracy: 0.6912\n",
      "Epoch 23/30\n",
      "469/469 [==============================] - ETA: 0s - loss: 0.4868 - accuracy: 0.7744\n",
      "Epoch 23: val_accuracy did not improve from 0.72400\n",
      "469/469 [==============================] - 98s 209ms/step - loss: 0.4868 - accuracy: 0.7744 - val_loss: 0.5664 - val_accuracy: 0.7120\n",
      "Epoch 24/30\n",
      "469/469 [==============================] - ETA: 0s - loss: 0.4584 - accuracy: 0.7989\n",
      "Epoch 24: val_accuracy did not improve from 0.72400\n",
      "469/469 [==============================] - 97s 207ms/step - loss: 0.4584 - accuracy: 0.7989 - val_loss: 0.5575 - val_accuracy: 0.7240\n",
      "Epoch 25/30\n",
      "469/469 [==============================] - ETA: 0s - loss: 0.4292 - accuracy: 0.8187\n",
      "Epoch 25: val_accuracy improved from 0.72400 to 0.73280, saving model to saved_model\\\n"
     ]
    },
    {
     "name": "stderr",
     "output_type": "stream",
     "text": [
      "WARNING:absl:Found untraced functions such as _update_step_xla, re_lu_layer_call_fn, re_lu_layer_call_and_return_conditional_losses, re_lu_1_layer_call_fn, re_lu_1_layer_call_and_return_conditional_losses while saving (showing 5 of 5). These functions will not be directly callable after loading.\n"
     ]
    },
    {
     "name": "stdout",
     "output_type": "stream",
     "text": [
      "INFO:tensorflow:Assets written to: saved_model\\assets\n"
     ]
    },
    {
     "name": "stderr",
     "output_type": "stream",
     "text": [
      "INFO:tensorflow:Assets written to: saved_model\\assets\n"
     ]
    },
    {
     "name": "stdout",
     "output_type": "stream",
     "text": [
      "469/469 [==============================] - 98s 209ms/step - loss: 0.4292 - accuracy: 0.8187 - val_loss: 0.5524 - val_accuracy: 0.7328\n",
      "Epoch 26/30\n",
      "469/469 [==============================] - ETA: 0s - loss: 0.4014 - accuracy: 0.8347\n",
      "Epoch 26: val_accuracy improved from 0.73280 to 0.73440, saving model to saved_model\\\n"
     ]
    },
    {
     "name": "stderr",
     "output_type": "stream",
     "text": [
      "WARNING:absl:Found untraced functions such as _update_step_xla, re_lu_layer_call_fn, re_lu_layer_call_and_return_conditional_losses, re_lu_1_layer_call_fn, re_lu_1_layer_call_and_return_conditional_losses while saving (showing 5 of 5). These functions will not be directly callable after loading.\n"
     ]
    },
    {
     "name": "stdout",
     "output_type": "stream",
     "text": [
      "INFO:tensorflow:Assets written to: saved_model\\assets\n"
     ]
    },
    {
     "name": "stderr",
     "output_type": "stream",
     "text": [
      "INFO:tensorflow:Assets written to: saved_model\\assets\n"
     ]
    },
    {
     "name": "stdout",
     "output_type": "stream",
     "text": [
      "469/469 [==============================] - 100s 212ms/step - loss: 0.4014 - accuracy: 0.8347 - val_loss: 0.5480 - val_accuracy: 0.7344\n",
      "Epoch 27/30\n",
      "469/469 [==============================] - ETA: 0s - loss: 0.3718 - accuracy: 0.8552\n",
      "Epoch 27: val_accuracy did not improve from 0.73440\n",
      "469/469 [==============================] - 98s 208ms/step - loss: 0.3718 - accuracy: 0.8552 - val_loss: 0.5532 - val_accuracy: 0.7232\n",
      "Epoch 28/30\n",
      "469/469 [==============================] - ETA: 0s - loss: 0.3434 - accuracy: 0.8717\n",
      "Epoch 28: val_accuracy improved from 0.73440 to 0.73600, saving model to saved_model\\\n"
     ]
    },
    {
     "name": "stderr",
     "output_type": "stream",
     "text": [
      "WARNING:absl:Found untraced functions such as _update_step_xla, re_lu_layer_call_fn, re_lu_layer_call_and_return_conditional_losses, re_lu_1_layer_call_fn, re_lu_1_layer_call_and_return_conditional_losses while saving (showing 5 of 5). These functions will not be directly callable after loading.\n"
     ]
    },
    {
     "name": "stdout",
     "output_type": "stream",
     "text": [
      "INFO:tensorflow:Assets written to: saved_model\\assets\n"
     ]
    },
    {
     "name": "stderr",
     "output_type": "stream",
     "text": [
      "INFO:tensorflow:Assets written to: saved_model\\assets\n"
     ]
    },
    {
     "name": "stdout",
     "output_type": "stream",
     "text": [
      "469/469 [==============================] - 99s 210ms/step - loss: 0.3434 - accuracy: 0.8717 - val_loss: 0.5442 - val_accuracy: 0.7360\n",
      "Epoch 29/30\n",
      "469/469 [==============================] - ETA: 0s - loss: 0.3134 - accuracy: 0.8853\n",
      "Epoch 29: val_accuracy did not improve from 0.73600\n",
      "469/469 [==============================] - 97s 207ms/step - loss: 0.3134 - accuracy: 0.8853 - val_loss: 0.5464 - val_accuracy: 0.7304\n",
      "Epoch 30/30\n",
      "469/469 [==============================] - ETA: 0s - loss: 0.2849 - accuracy: 0.9056\n",
      "Epoch 30: val_accuracy did not improve from 0.73600\n",
      "469/469 [==============================] - 97s 207ms/step - loss: 0.2849 - accuracy: 0.9056 - val_loss: 0.5628 - val_accuracy: 0.7304\n"
     ]
    },
    {
     "data": {
      "text/plain": [
       "<keras.callbacks.History at 0x1b732e30610>"
      ]
     },
     "execution_count": 11,
     "metadata": {},
     "output_type": "execute_result"
    }
   ],
   "source": [
    "filepath = \"saved_model/\"\n",
    "cp_callback = tf.keras.callbacks.ModelCheckpoint(filepath=filepath, save_best_only=True, monitor=\"val_accuracy\", mode=\"max\", verbose=1) # Saves only the best model (i.e., for each epoch during training, save model only if the current version outperforms the previous version)\n",
    "model.fit(x=X, y=Y, epochs=30,  batch_size=8, validation_split= 0.25, callbacks=cp_callback)"
   ]
  },
  {
   "cell_type": "code",
   "execution_count": 12,
   "id": "6638eeca",
   "metadata": {
    "colab": {
     "base_uri": "https://localhost:8080/"
    },
    "id": "JJS8lz6shPLQ",
    "outputId": "4016b35b-4c15-4e3f-c12c-9447daaf527c"
   },
   "outputs": [
    {
     "name": "stdout",
     "output_type": "stream",
     "text": [
      "Model: \"logistic_regression_example\"\n",
      "_________________________________________________________________\n",
      " Layer (type)                Output Shape              Param #   \n",
      "=================================================================\n",
      " input_layer (InputLayer)    [(None, 10000)]           0         \n",
      "                                                                 \n",
      " hidden_layer_1 (Dense)      (None, 5000)              50005000  \n",
      "                                                                 \n",
      " hidden_layer_2 (Dense)      (None, 2500)              12502500  \n",
      "                                                                 \n",
      " output_layer (Dense)        (None, 1)                 2501      \n",
      "                                                                 \n",
      "=================================================================\n",
      "Total params: 62,510,001\n",
      "Trainable params: 62,510,001\n",
      "Non-trainable params: 0\n",
      "_________________________________________________________________\n"
     ]
    }
   ],
   "source": [
    "import tensorflow as tf\n",
    "#filepath = \"/content/drive/My Drive/ASU_courses/CIS509/saved_model/\"\n",
    "new_model = tf.keras.models.load_model(\"saved_model/\")\n",
    "new_model.summary()"
   ]
  },
  {
   "cell_type": "code",
   "execution_count": 13,
   "id": "027bdfcf",
   "metadata": {},
   "outputs": [],
   "source": [
    "labels = {\n",
    "    0:'Conservative',\n",
    "    1: 'Liberal'\n",
    "}"
   ]
  },
  {
   "cell_type": "code",
   "execution_count": 14,
   "id": "cd2dbbf8",
   "metadata": {
    "colab": {
     "base_uri": "https://localhost:8080/"
    },
    "id": "P4WvoBF-O-07",
    "outputId": "586b8f4f-2fcc-4b0d-890d-a3a02df39831"
   },
   "outputs": [
    {
     "name": "stdout",
     "output_type": "stream",
     "text": [
      "1/1 [==============================] - 0s 117ms/step\n",
      "[[0.6105194 ]\n",
      " [0.03638063]]\n",
      "\n",
      "Text :  “Anarcho-capitalism, in my opinion, is a doctrinal system which, if ever implemented, would lead to forms of tyranny and oppression that have few counterparts in human history\n",
      "Prediction :  Liberal\n",
      "\n",
      "Text :  Biden's Response to Putin's Invasion of Ukraine Has Been His Finest Moment\n",
      "Prediction :  Conservative\n"
     ]
    }
   ],
   "source": [
    "new_data = [\"“Anarcho-capitalism, in my opinion, is a doctrinal system which, if ever implemented, would lead to forms of tyranny and oppression that have few counterparts in human history\",\n",
    "            \"Biden's Response to Putin's Invasion of Ukraine Has Been His Finest Moment\"]\n",
    "\n",
    "vectorized_new_data = vectorizer.transform(new_data)\n",
    "new_x = vectorized_new_data.toarray()\n",
    "pred_new = new_model.predict(new_x)\n",
    "print(pred_new)\n",
    "\n",
    "for i in range(len(new_data)):\n",
    "    \n",
    "    print('\\nText : ', new_data[i])\n",
    "    print('Prediction : ', labels[int(np.around(pred_new[i]))])"
   ]
  }
 ],
 "metadata": {
  "kernelspec": {
   "display_name": "Python 3 (ipykernel)",
   "language": "python",
   "name": "python3"
  },
  "language_info": {
   "codemirror_mode": {
    "name": "ipython",
    "version": 3
   },
   "file_extension": ".py",
   "mimetype": "text/x-python",
   "name": "python",
   "nbconvert_exporter": "python",
   "pygments_lexer": "ipython3",
   "version": "3.9.13"
  }
 },
 "nbformat": 4,
 "nbformat_minor": 5
}
